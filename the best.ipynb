{
 "cells": [
  {
   "cell_type": "code",
   "execution_count": null,
   "metadata": {},
   "outputs": [],
   "source": [
    "import pymysql\n",
    "dictionary = {\"职业道德\":'zydd',\"消费\":'xf',\"守法\":'sf',\"声望\":'sw',\"职业经历\":'zyjl',\"职业贡献\":'zygx',\n",
    "               \"奖励\":'jl',\"技能\":'jn',\"评价\":'pj',\"总汇\":'zh'}\n",
    "\n",
    "classtype = input(\"please input what kind of data u want to search: \")\n",
    "db = pymysql.connect(\"localhost\",\"root\",\"xxx\",\"judgement2\",use_unicode = True,charset = \"utf8\")\n",
    "cursor = db.cursor()\n",
    "\n",
    "sql = \"\"\"select numb,score from {} where rank = 1\"\"\".format(dictionary[classtype])\n",
    "try:\n",
    "    cursor.execute(sql)\n",
    "    s = cursor.fetchall()[0]\n",
    "    number = s[0]\n",
    "    score = s[1]\n",
    "    db.commit()\n",
    "except:\n",
    "    db.rollback()\n",
    "db.close()\n",
    "\n",
    "print(\"{}部分得分最高的是学号为{}的同学，得分是: {}  \".format(classtype,number,score))"
   ]
  }
 ],
 "metadata": {
  "kernelspec": {
   "display_name": "Python 3",
   "language": "python",
   "name": "python3"
  },
  "language_info": {
   "codemirror_mode": {
    "name": "ipython",
    "version": 3
   },
   "file_extension": ".py",
   "mimetype": "text/x-python",
   "name": "python",
   "nbconvert_exporter": "python",
   "pygments_lexer": "ipython3",
   "version": "3.6.4"
  }
 },
 "nbformat": 4,
 "nbformat_minor": 2
}
